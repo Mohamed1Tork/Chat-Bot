{
 "cells": [
  {
   "cell_type": "markdown",
   "metadata": {},
   "source": [
    "# Create Chat Bot"
   ]
  },
  {
   "cell_type": "markdown",
   "metadata": {},
   "source": [
    "### Prepare Dependecies\n",
    "#### 1- import \"ChatBot\" from chatterbot package.\n",
    "#### 2- import \"ListTrainer\" to allow chatbot to be trained."
   ]
  },
  {
   "cell_type": "code",
   "execution_count": 1,
   "metadata": {},
   "outputs": [],
   "source": [
    "from chatterbot import ChatBot\n",
    "from chatterbot.trainers import ListTrainer"
   ]
  },
  {
   "cell_type": "markdown",
   "metadata": {},
   "source": [
    "### Create Bot and give it name \"PyBot\"."
   ]
  },
  {
   "cell_type": "code",
   "execution_count": 2,
   "metadata": {},
   "outputs": [],
   "source": [
    "my_bot=ChatBot(name='PyBot')"
   ]
  },
  {
   "cell_type": "markdown",
   "metadata": {},
   "source": [
    "### Create lists of statements in the order we want to communicate the Bot."
   ]
  },
  {
   "cell_type": "code",
   "execution_count": 3,
   "metadata": {},
   "outputs": [],
   "source": [
    "Bot_Conv=[\n",
    "    'hi there!',\n",
    "    'hi!',\n",
    "    'how do you do?',\n",
    "    'fine, you?',\n",
    "    'always cool.',\n",
    "    'glad to hear that.',\n",
    "    'how are you?',\n",
    "    'i am cool.',\n",
    "    'i feel awesome.',\n",
    "    'excellent, glad to hear that.',\n",
    "    'not so good!',\n",
    "    'sorry to hear that.',\n",
    "    'what is your name?',\n",
    "    'i am PyBot. ask me a math question,please',\n",
    "    'Ok Thanks',\n",
    "    'No Problem! Have a Good Day!'\n",
    "]\n",
    "math1=['show me pythagorean theorem','a squared plus b squared equals c squared']\n",
    "math2=['law of cosines','c**2 = a**2 + 2 * a * b * cos(gamma) + b**2']"
   ]
  },
  {
   "cell_type": "markdown",
   "metadata": {},
   "source": [
    "### Training the Bot with the lists of statements."
   ]
  },
  {
   "cell_type": "code",
   "execution_count": 4,
   "metadata": {},
   "outputs": [
    {
     "name": "stdout",
     "output_type": "stream",
     "text": [
      "List Trainer: [####################] 100%\n",
      "List Trainer: [####################] 100%\n",
      "List Trainer: [####################] 100%\n"
     ]
    }
   ],
   "source": [
    "list_trainer=ListTrainer(my_bot)\n",
    "for item in (Bot_Conv,math1,math2):\n",
    "    list_trainer.train(item)"
   ]
  },
  {
   "cell_type": "markdown",
   "metadata": {},
   "source": [
    "### Testing the communication of the Chat Bot."
   ]
  },
  {
   "cell_type": "code",
   "execution_count": 5,
   "metadata": {},
   "outputs": [
    {
     "name": "stdout",
     "output_type": "stream",
     "text": [
      "you :hi there\n",
      "Bot: hi!\n",
      "you :how do you do?\n",
      "Bot: fine, you?\n",
      "you :i feel awesome!\n",
      "Bot: excellent, glad to hear that.\n",
      "you :what is your name?\n",
      "Bot: i am pybot. ask me a math question,please\n",
      "you :can you define the law of cosines?\n",
      "Bot: c**2 = a**2 + 2 * a * b * cos(gamma) + b**2\n",
      "you :ok thanks!\n",
      "Bot: No Problem! Have a Good Day!\n",
      "you :ok\n",
      "Bot: bye\n"
     ]
    }
   ],
   "source": [
    "while True:\n",
    "    request=input('you :')\n",
    "    if request == 'OK' or request == 'ok':\n",
    "        print('Bot: bye')\n",
    "        break\n",
    "    else:\n",
    "        response=my_bot.get_response(request)\n",
    "        print('Bot:', response)"
   ]
  },
  {
   "cell_type": "code",
   "execution_count": null,
   "metadata": {},
   "outputs": [],
   "source": []
  }
 ],
 "metadata": {
  "kernelspec": {
   "display_name": "Python 3",
   "language": "python",
   "name": "python3"
  },
  "language_info": {
   "codemirror_mode": {
    "name": "ipython",
    "version": 3
   },
   "file_extension": ".py",
   "mimetype": "text/x-python",
   "name": "python",
   "nbconvert_exporter": "python",
   "pygments_lexer": "ipython3",
   "version": "3.7.4"
  }
 },
 "nbformat": 4,
 "nbformat_minor": 2
}
